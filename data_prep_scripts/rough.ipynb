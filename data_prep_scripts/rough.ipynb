{
 "cells": [
  {
   "cell_type": "code",
   "execution_count": 4,
   "metadata": {},
   "outputs": [
    {
     "name": "stderr",
     "output_type": "stream",
     "text": [
      "100%|██████████| 285318/285318 [00:00<00:00, 1510227.65it/s]\n",
      "100%|██████████| 152648/152648 [00:00<00:00, 1557863.06it/s]\n",
      "100%|██████████| 198248/198248 [00:00<00:00, 1591664.09it/s]\n",
      "100%|██████████| 132121/132121 [00:00<00:00, 1732521.42it/s]\n",
      "100%|██████████| 29697/29697 [00:00<00:00, 1998367.49it/s]\n",
      "100%|██████████| 189574/189574 [00:00<00:00, 1729169.63it/s]\n",
      "100%|██████████| 105897/105897 [00:00<00:00, 1964415.69it/s]\n",
      "100%|██████████| 207040/207040 [00:00<00:00, 1843438.77it/s]\n",
      "100%|██████████| 231945/231945 [00:00<00:00, 1853015.27it/s]\n",
      "100%|██████████| 103245/103245 [00:00<00:00, 1870102.42it/s]\n",
      "100%|██████████| 222449/222449 [00:00<00:00, 1883189.55it/s]\n",
      "100%|██████████| 33085/33085 [00:00<00:00, 2008140.72it/s]\n",
      "100%|██████████| 44467/44467 [00:00<00:00, 2027813.17it/s]\n",
      "100%|██████████| 113836/113836 [00:00<00:00, 1794278.12it/s]\n",
      "100%|██████████| 15391/15391 [00:00<00:00, 1844204.46it/s]\n",
      "100%|██████████| 99296/99296 [00:00<00:00, 2038688.76it/s]\n",
      "100%|██████████| 88452/88452 [00:00<00:00, 1870677.22it/s]\n",
      "100%|██████████| 65183/65183 [00:00<00:00, 1981455.87it/s]\n",
      "100%|██████████| 93850/93850 [00:00<00:00, 2117560.45it/s]\n",
      "100%|██████████| 223980/223980 [00:00<00:00, 1904395.51it/s]\n",
      "100%|██████████| 102655/102655 [00:00<00:00, 1955395.14it/s]\n",
      "100%|██████████| 98382/98382 [00:00<00:00, 2033500.47it/s]\n",
      "100%|██████████| 158345/158345 [00:00<00:00, 1869525.51it/s]\n"
     ]
    },
    {
     "data": {
      "text/plain": [
       "(array([2.909907e+06, 8.504700e+04, 1.250000e+02, 2.300000e+01,\n",
       "        0.000000e+00, 0.000000e+00, 0.000000e+00, 1.000000e+00,\n",
       "        0.000000e+00, 1.000000e+00]),\n",
       " array([1.0000e+00, 2.5580e+02, 5.1060e+02, 7.6540e+02, 1.0202e+03,\n",
       "        1.2750e+03, 1.5298e+03, 1.7846e+03, 2.0394e+03, 2.2942e+03,\n",
       "        2.5490e+03]),\n",
       " <BarContainer object of 10 artists>)"
      ]
     },
     "execution_count": 4,
     "metadata": {},
     "output_type": "execute_result"
    },
    {
     "data": {
      "image/png": "[encoded data removed]",
      "text/plain": [
       "<Figure size 640x480 with 1 Axes>"
      ]
     },
     "metadata": {},
     "output_type": "display_data"
    }
   ],
   "source": [
    "import glob, pandas as pd\n",
    "import matplotlib.pyplot as plt\n",
    "import tqdm\n",
    "path=\"/home/asr/speech-datasets/indicvoices/artifacts/manifests/internal/verbatim\"\n",
    "\n",
    "jsons = glob.glob(f'{path}/*.json')\n",
    "\n",
    "lengths = []\n",
    "for j in jsons:\n",
    "    df = pd.read_json(j,lines=True, orient='records')\n",
    "    for t in tqdm.tqdm(df['text']):\n",
    "        lengths.append(len(t))\n",
    "\n",
    "plt.hist(lengths)\n"
   ]
  },
  {
   "cell_type": "code",
   "execution_count": null,
   "metadata": {},
   "outputs": [],
   "source": [
    "import glob, pandas as pd\n",
    "import matplotlib.pyplot as plt\n",
    "import tqdm\n",
    "from joblib import Parallel, delayed\n",
    "\n",
    "path=\"/home/asr/speech-datasets/indicvoices/artifacts/manifests/internal/\"\n",
    "\n",
    "jsons = glob.glob(f'{path}/*.json')\n",
    "\n",
    "def process_json(j):\n",
    "    with open(j) as reader:\n",
    "        lines = reader.read().strip().splitlines()\n",
    "    \n",
    "    consider = []\n",
    "    for l in lines:\n",
    "        jobj = json.loads(l)\n",
    "        if jobj['text'] <= 800:\n",
    "            consider.append(l)\n",
    "\n",
    "    with open(j,'w') as writer:\n",
    "        print('\\n'.join(consider),file=writer)\n",
    "\n",
    "Parallel(n_jobs=-64,backend='multiprocessing')(\n",
    "    delayed(process_json)(x) for x in tqdm.tqdm(jsons)\n",
    ")"
   ]
  }
 ],
 "metadata": {
  "kernelspec": {
   "display_name": "temo",
   "language": "python",
   "name": "python3"
  },
  "language_info": {
   "codemirror_mode": {
    "name": "ipython",
    "version": 3
   },
   "file_extension": ".py",
   "mimetype": "text/x-python",
   "name": "python",
   "nbconvert_exporter": "python",
   "pygments_lexer": "ipython3",
   "version": "3.10.14"
  }
 },
 "nbformat": 4,
 "nbformat_minor": 2
}
